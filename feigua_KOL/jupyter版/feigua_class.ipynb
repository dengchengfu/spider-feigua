{
 "cells": [
  {
   "cell_type": "code",
   "execution_count": null,
   "metadata": {},
   "outputs": [],
   "source": [
    "#导入库\n",
    "import random\n",
    "import time\n",
    "import os\n",
    "import re\n",
    "import requests\n",
    "from lxml import etree\n",
    "import pandas as pd \n",
    "import time\n",
    "import re\n",
    "import json\n",
    "from bs4 import BeautifulSoup\n",
    "from lxml import etree\n",
    "from urllib.parse import urlencode"
   ]
  },
  {
   "cell_type": "code",
   "execution_count": null,
   "metadata": {},
   "outputs": [],
   "source": [
    "cookie = \"\""
   ]
  },
  {
   "cell_type": "code",
   "execution_count": null,
   "metadata": {},
   "outputs": [],
   "source": [
    "#读取文件\n",
    "df = pd.read_excel(\"CK补充达人.xlsx\")\n",
    "df.head(10)"
   ]
  },
  {
   "cell_type": "code",
   "execution_count": null,
   "metadata": {},
   "outputs": [],
   "source": [
    "#用户列表\n",
    "nicknames = df['达人名称'].tolist()"
   ]
  },
  {
   "cell_type": "code",
   "execution_count": null,
   "metadata": {},
   "outputs": [],
   "source": [
    "nicknames = nicknames[:]\n",
    "len(nicknames)"
   ]
  },
  {
   "cell_type": "code",
   "execution_count": null,
   "metadata": {},
   "outputs": [],
   "source": [
    "fantab_dict = {\n",
    "    \"synthesis\":\"粉丝列表画像\",\n",
    "    \"aweme\":\"视频观众画像\"\n",
    "}"
   ]
  },
  {
   "cell_type": "markdown",
   "metadata": {},
   "source": [
    "### 类"
   ]
  },
  {
   "cell_type": "code",
   "execution_count": null,
   "metadata": {},
   "outputs": [],
   "source": [
    "class FEIGUA():\n",
    "\n",
    "    def get_html(self,url):\n",
    "        headers = {\n",
    "        \"Accept\": \"\"\"*/*\"\"\",\n",
    "        \"Accept-Encoding\": \"gzip, deflate, br\",\n",
    "        \"Accept-Language\": \"zh-CN,zh;q=0.9,en;q=0.8,ja;q=0.7,zh-TW;q=0.6\",\n",
    "        \"Connection\": \"keep-alive\",\n",
    "        \"Cookie\":  cookie,\n",
    "        \"Host\": \"dy.feigua.cn\",\n",
    "        \"Referer\": \"https://dy.feigua.cn/Member\",\n",
    "        \"sec-ch-ua-mobile\": \"?0\",\n",
    "        \"Sec-Fetch-Dest\": \"empty\",\n",
    "        \"Sec-Fetch-Mode\": \"cors\",\n",
    "        \"Sec-Fetch-Site\": \"same-origin\",\n",
    "        \"User-Agent\": \"Mozilla/5.0 (Macintosh; Intel Mac OS X 10_15_7) AppleWebKit/537.36 (KHTML, like Gecko) Chrome/91.0.4472.77 Safari/537.36\",\n",
    "        \"X-Requested-With\": \"XMLHttpRequest\" \n",
    "        }\n",
    "\n",
    "        r=requests.get(url,headers=headers)\n",
    "        html = r.text\n",
    "        return html\n",
    "\n",
    "    def get_args(self,keyword):\n",
    "        base_url = \"https://dy.feigua.cn/BloggerSearch/Search?\"\n",
    "        search_args = {\n",
    "        \"keyword\": keyword,\n",
    "        \"isWithCommerceEntry\": -1,\n",
    "        \"isWithLive\": -1,\n",
    "        \"isBrandBlogger\": -1,\n",
    "        \"hasContact\": -1,\n",
    "        \"hasMcn\": -1,\n",
    "        \"hasAdCreative\": -1,\n",
    "        \"isUserBloggerClaim\": -1,\n",
    "        \"showmodel\": 0,\n",
    "        \"sort\": 0,\n",
    "        \"page\": 1\n",
    "        }\n",
    "\n",
    "        search_url = base_url + urlencode(search_args)\n",
    "        \n",
    "        html = self.get_html(search_url)\n",
    "        soup = BeautifulSoup(html)\n",
    "        ref = soup.select(\"body > div.v-search-items > div:nth-child(1) > div.search-item-btns > a:nth-child(1)\")[0]['href']\n",
    "        signature = ref.split('&signature=')[1]\n",
    "        timestamp = ref.split('&signature=')[0].split('&timestamp=')[1]\n",
    "        _id = ref.split('&timestamp=')[0].split('?id=')[1]\n",
    "        print(\"个人主页参数\",(_id,timestamp,signature))\n",
    "\n",
    "        return (_id,timestamp,signature)\n",
    "\n",
    "\n",
    "    def get_uid_fan(self,_id,timestamp,signature):\n",
    "        def get_fanTotal(html):\n",
    "            soup = BeautifulSoup(html)\n",
    "            fan = soup.select(\"body > div.v-main > div > div.v3-owner.owner-info-bozhu > div > div.flex-column-col2.scrollbar > div > ul:nth-child(2) > li:nth-child(1) > strong\")[0].text\n",
    "            fan = float(fan[:-1])\n",
    "            return fan\n",
    "\n",
    "        def get_uid(html):\n",
    "            #方法一\n",
    "            soup = BeautifulSoup(html)\n",
    "            uid = soup.select(\"#uid\")[0]['value']\n",
    "\n",
    "            #方法二\n",
    "            #re.compile()函数接受一个标志参数叫re.DOTALL,它可以让正则表达式中的点（.）匹配包括换行符在内的任意字符。\n",
    "            #js = re.compile('(.*)param(.*)pagesize',re.DOTALL)\n",
    "            #js.search(html).group(2)\n",
    "            return uid\n",
    "        \n",
    "        def get_nickname(html):\n",
    "            #方法一\n",
    "            soup = BeautifulSoup(html)\n",
    "            nickname = soup.select(\"body > div.v-main > div > div.v3-owner.owner-info-bozhu > div > div.v3-owner-info > div.media-list.v3-owner-bozhu > div.item-inner > div.item-title > a.title\")[0].text\n",
    "            # print(nickname)\n",
    "            return nickname\n",
    "\n",
    "        #个人主页链接\n",
    "        url = \"https://dy.feigua.cn/BloggerNew/Detail?id={}&active=bloggerdata&timestamp={}&signature={}\".format(_id,timestamp,signature)\n",
    "        print(\"个人主页链接\",url)\n",
    "        html = self.get_html(url)\n",
    "        \n",
    "        fan = get_fanTotal(html)\n",
    "        uid = get_uid(html)\n",
    "        nickname = get_nickname(html)\n",
    "        \n",
    "        print(\"个人主页详情\",(nickname,uid,fan))\n",
    "       \n",
    "        return (nickname,uid,fan)\n",
    "\n",
    "\n",
    "    def get_portrait(self,_id,uid,nick):\n",
    "        def get_portrait_html(url):\n",
    "            headers = {\n",
    "            \"Accept\": \"\"\"*/*\"\"\",\n",
    "            \"Accept-Encoding\": \"gzip, deflate, br\",\n",
    "            \"Accept-Language\": \"zh-CN,zh;q=0.9,en;q=0.8,ja;q=0.7,zh-TW;q=0.6\",\n",
    "            \"Connection\": \"keep-alive\",\n",
    "            \"Cookie\":  cookie,\n",
    "            \"Host\": \"dy.feigua.cn\",\n",
    "            \"Referer\": \"https://dy.feigua.cn/Member\",\n",
    "            \"sec-ch-ua-mobile\": \"?0\",\n",
    "            \"Sec-Fetch-Dest\": \"empty\",\n",
    "            \"Sec-Fetch-Mode\": \"cors\",\n",
    "            \"Sec-Fetch-Site\": \"same-origin\",\n",
    "            \"User-Agent\": \"Mozilla/5.0 (Macintosh; Intel Mac OS X 10_15_7) AppleWebKit/537.36 (KHTML, like Gecko) Chrome/91.0.4472.77 Safari/537.36\",\n",
    "            \"X-Requested-With\": \"XMLHttpRequest\" \n",
    "            }\n",
    "\n",
    "            r=requests.get(url,headers=headers)\n",
    "            html = r.text\n",
    "            return html\n",
    "\n",
    "        def get_gender(html,gen_type):\n",
    "            soup = BeautifulSoup(html)\n",
    "            if \"synthesis\" in gen_type:\n",
    "                name = fantab_dict[gen_type]\n",
    "                selector = \"#synthesis_container > div.container-fluid > div > div:nth-child(1) > div > div:nth-child(2) > div > div.gender-percentage\"  \n",
    "            if \"aweme\" in gen_type:\n",
    "                name = fantab_dict[gen_type]\n",
    "                selector = \"#aweme_container > div.container-fluid > div > div:nth-child(1) > div > div:nth-child(2) > div > div.gender-percentage\"\n",
    "            \n",
    "            gen_data = []\n",
    "            if soup.select(selector) != []:\n",
    "                data = soup.select(selector)[0].text.split(\"\\n\")\n",
    "                for i in range(1,3):\n",
    "                    #中文的冒号\n",
    "                    gender = data[i].split('：')[0]\n",
    "                    pct = float(data[i].split('：')[1][:-1])\n",
    "                    gen_data.append((nick,name,gender,pct))\n",
    "            return gen_data\n",
    "    \n",
    "        def get_age(html,fan_type):\n",
    "            if \"synthesis\" in fan_type:\n",
    "                name = fantab_dict[fan_type]\n",
    "                age_str = re.search('(.*)synthesis_age_chart\\\",(.*)[)]',html).group(2)\n",
    "            if \"aweme\" in fan_type:\n",
    "                name = fantab_dict[fan_type]\n",
    "                age_str = re.search('(.*)aweme_age_chart\\\",(.*)[)]',html).group(2)\n",
    "                \n",
    "            age_set = []\n",
    "            if age_str != \"null\":\n",
    "                total = 0\n",
    "                age_data = eval(age_str)\n",
    "                for data in age_data:\n",
    "                    total = total + data['Samples']\n",
    "                \n",
    "                for data in age_data:\n",
    "                    age_set.append((nick,name,data['Name'],data['Samples']/total))\n",
    "\n",
    "            return age_set \n",
    "        \n",
    "        #粉丝页面链接\n",
    "        url = 'https://dy.feigua.cn/BloggerNew/Loadbloggerfans?id={}&uid={}&showDemo=false&_={}'.format(_id,uid,round(time.time() * 1000))\n",
    "        print(\"粉丝页面链接\",url)\n",
    "        html = get_portrait_html(url)\n",
    "        \n",
    "        fan_gender_data = get_gender(html,\"synthesis\")\n",
    "        video_gender_data = get_gender(html,\"aweme\")\n",
    "        \n",
    "        fan_age_data = get_age(html,\"synthesis\")\n",
    "        video_age_data = get_age(html,\"aweme\")\n",
    "        \n",
    "        print(\"粉丝画像:\")\n",
    "        print((fan_gender_data,video_gender_data,fan_age_data,video_age_data))\n",
    "        return (fan_gender_data,video_gender_data,fan_age_data,video_age_data)\n"
   ]
  },
  {
   "cell_type": "markdown",
   "metadata": {},
   "source": [
    "### 爬取入口"
   ]
  },
  {
   "cell_type": "code",
   "execution_count": null,
   "metadata": {},
   "outputs": [],
   "source": [
    "#实例化类\n",
    "feigua =  FEIGUA()"
   ]
  },
  {
   "cell_type": "code",
   "execution_count": null,
   "metadata": {},
   "outputs": [],
   "source": [
    "%%time\n",
    "overview = []\n",
    "fan_gender = []\n",
    "fan_portrait = []\n",
    "count = 0\n",
    "error = []\n",
    "print(\"一共需爬取{}个达人\".format(len(nicknames)))\n",
    "print(\"*\"*50)\n",
    "\n",
    "for nick in nicknames:\n",
    "    try:\n",
    "        count += 1\n",
    "        print(\"开始爬取第{}个达人: \".format(count),nick)\n",
    "        _id, timestamp, signature = feigua.get_args(nick)\n",
    "        time.sleep(random.uniform(0.3,1))\n",
    "        nick_name,uid, fan = feigua.get_uid_fan(_id,timestamp,signature)\n",
    "        time.sleep(random.uniform(0.3,1))\n",
    "        overview.append((nick,nick_name, fan, _id, uid))\n",
    "        data = feigua.get_portrait(_id,uid,nick_name)\n",
    "        fan_gender.append((data[0],data[1]))\n",
    "        fan_portrait.append((data[2],data[3]))\n",
    "        print(\"第{}个达人爬取完毕\".format(count))\n",
    "        print(\"*\"*50)\n",
    "    except Exception as e:\n",
    "        print(\"达人{}不存在\".format(nick),e)\n",
    "        error.append(nick)\n",
    "        print(\"*\"*50)\n",
    "        "
   ]
  },
  {
   "cell_type": "code",
   "execution_count": null,
   "metadata": {},
   "outputs": [],
   "source": [
    "len(overview)"
   ]
  },
  {
   "cell_type": "markdown",
   "metadata": {},
   "source": [
    "#### 出错部分"
   ]
  },
  {
   "cell_type": "code",
   "execution_count": null,
   "metadata": {},
   "outputs": [],
   "source": [
    "#出错部分\n",
    "error"
   ]
  },
  {
   "cell_type": "code",
   "execution_count": null,
   "metadata": {},
   "outputs": [],
   "source": []
  },
  {
   "cell_type": "markdown",
   "metadata": {},
   "source": [
    "### 数据处理"
   ]
  },
  {
   "cell_type": "code",
   "execution_count": null,
   "metadata": {},
   "outputs": [],
   "source": [
    "overview_header = [\"原始昵称\", \"昵称\",\"粉丝数(万)\",\"id\",\"uid\"]"
   ]
  },
  {
   "cell_type": "code",
   "execution_count": null,
   "metadata": {},
   "outputs": [],
   "source": [
    "overview"
   ]
  },
  {
   "cell_type": "code",
   "execution_count": null,
   "metadata": {},
   "outputs": [],
   "source": [
    "filname = \"CK补充达人飞瓜抖音粉丝TOP\" + str(len(overview)) + \".csv\"\n",
    "filname"
   ]
  },
  {
   "cell_type": "code",
   "execution_count": null,
   "metadata": {},
   "outputs": [],
   "source": [
    "details=pd.DataFrame(columns=overview_header,data=overview)\n",
    "print(details.info())\n",
    "#解决中文乱码\n",
    "details.to_csv(filname,encoding = \"utf_8_sig\")"
   ]
  },
  {
   "cell_type": "markdown",
   "metadata": {},
   "source": [
    "#### 处理粉丝性别画像"
   ]
  },
  {
   "cell_type": "code",
   "execution_count": null,
   "metadata": {},
   "outputs": [],
   "source": [
    "gender_header = [\"昵称\",\"画像属性\",\"性别\",\"占比\"]"
   ]
  },
  {
   "cell_type": "code",
   "execution_count": null,
   "metadata": {
    "scrolled": true
   },
   "outputs": [],
   "source": [
    "fan_gender"
   ]
  },
  {
   "cell_type": "code",
   "execution_count": null,
   "metadata": {},
   "outputs": [],
   "source": [
    "len(fan_gender)"
   ]
  },
  {
   "cell_type": "code",
   "execution_count": null,
   "metadata": {},
   "outputs": [],
   "source": [
    "fanTuple = ()\n",
    "for i in fan_gender:\n",
    "    fanTuple = fanTuple + i\n",
    "fanTuple"
   ]
  },
  {
   "cell_type": "code",
   "execution_count": null,
   "metadata": {},
   "outputs": [],
   "source": []
  },
  {
   "cell_type": "code",
   "execution_count": null,
   "metadata": {},
   "outputs": [],
   "source": [
    "fanList = []\n",
    "for i in fanTuple:\n",
    "    fanList = fanList + i\n",
    "fanList"
   ]
  },
  {
   "cell_type": "code",
   "execution_count": null,
   "metadata": {},
   "outputs": [],
   "source": [
    "filname = \"CK补充达人飞瓜抖音粉丝性别画像TOP\" + str(len(overview)) + \".csv\"\n",
    "filname"
   ]
  },
  {
   "cell_type": "code",
   "execution_count": null,
   "metadata": {},
   "outputs": [],
   "source": [
    "details=pd.DataFrame(columns=gender_header,data=fanList)\n",
    "print(details.info())\n",
    "#解决中文乱码\n",
    "details.to_csv(filname,encoding = \"utf_8_sig\")"
   ]
  },
  {
   "cell_type": "markdown",
   "metadata": {},
   "source": [
    "#### 处理粉丝年龄画像"
   ]
  },
  {
   "cell_type": "code",
   "execution_count": null,
   "metadata": {},
   "outputs": [],
   "source": [
    "age_header = [\"昵称\",\"画像属性\",\"年龄\",\"占比\"]"
   ]
  },
  {
   "cell_type": "code",
   "execution_count": null,
   "metadata": {},
   "outputs": [],
   "source": []
  },
  {
   "cell_type": "code",
   "execution_count": null,
   "metadata": {},
   "outputs": [],
   "source": [
    "fan_portrait"
   ]
  },
  {
   "cell_type": "code",
   "execution_count": null,
   "metadata": {},
   "outputs": [],
   "source": [
    "len(fan_portrait)"
   ]
  },
  {
   "cell_type": "code",
   "execution_count": null,
   "metadata": {},
   "outputs": [],
   "source": [
    "portraitTuple = ()\n",
    "for i in fan_portrait:\n",
    "    portraitTuple = portraitTuple + i\n",
    "portraitTuple"
   ]
  },
  {
   "cell_type": "code",
   "execution_count": null,
   "metadata": {},
   "outputs": [],
   "source": [
    "portraitList = []\n",
    "for i in portraitTuple:\n",
    "    portraitList = portraitList + i\n",
    "portraitList"
   ]
  },
  {
   "cell_type": "code",
   "execution_count": null,
   "metadata": {},
   "outputs": [],
   "source": []
  },
  {
   "cell_type": "code",
   "execution_count": null,
   "metadata": {},
   "outputs": [],
   "source": [
    "filname = \"CK补充达人飞瓜抖音粉丝年龄画像TOP\" + str(len(overview)) + \".csv\"\n",
    "filname"
   ]
  },
  {
   "cell_type": "code",
   "execution_count": null,
   "metadata": {},
   "outputs": [],
   "source": [
    "details=pd.DataFrame(columns=age_header,data=portraitList)\n",
    "print(details.info())\n",
    "#解决中文乱码\n",
    "details.to_csv(filname,encoding = \"utf_8_sig\")"
   ]
  },
  {
   "cell_type": "code",
   "execution_count": null,
   "metadata": {},
   "outputs": [],
   "source": []
  }
 ],
 "metadata": {
  "kernelspec": {
   "display_name": "Python 3",
   "language": "python",
   "name": "python3"
  },
  "language_info": {
   "codemirror_mode": {
    "name": "ipython",
    "version": 3
   },
   "file_extension": ".py",
   "mimetype": "text/x-python",
   "name": "python",
   "nbconvert_exporter": "python",
   "pygments_lexer": "ipython3",
   "version": "3.8.5"
  },
  "toc": {
   "base_numbering": 1,
   "nav_menu": {},
   "number_sections": true,
   "sideBar": true,
   "skip_h1_title": false,
   "title_cell": "Table of Contents",
   "title_sidebar": "Contents",
   "toc_cell": false,
   "toc_position": {},
   "toc_section_display": true,
   "toc_window_display": false
  }
 },
 "nbformat": 4,
 "nbformat_minor": 4
}
